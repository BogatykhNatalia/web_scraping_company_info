{
 "cells": [
  {
   "cell_type": "code",
   "execution_count": 1,
   "metadata": {},
   "outputs": [],
   "source": [
    "import pandas as pd\n",
    "import numpy as np\n",
    "from tqdm import tqdm\n",
    "import os\n",
    "\n",
    "from task1_utils import *\n",
    "from processing import Company"
   ]
  },
  {
   "cell_type": "code",
   "execution_count": 2,
   "metadata": {},
   "outputs": [],
   "source": [
    "import urllib3\n",
    "urllib3.disable_warnings(urllib3.exceptions.InsecureRequestWarning)"
   ]
  },
  {
   "cell_type": "code",
   "execution_count": 3,
   "metadata": {},
   "outputs": [],
   "source": [
    "dataset_name = 'InputData.xlsx'"
   ]
  },
  {
   "cell_type": "code",
   "execution_count": 4,
   "metadata": {},
   "outputs": [],
   "source": [
    "ds = pd.read_excel(dataset_name, engine='openpyxl')"
   ]
  },
  {
   "cell_type": "code",
   "execution_count": 7,
   "metadata": {
    "scrolled": false
   },
   "outputs": [
    {
     "name": "stderr",
     "output_type": "stream",
     "text": [
      "100it [1:44:38, 62.78s/it]\n"
     ]
    }
   ],
   "source": [
    "# dataset zeroing\n",
    "try:\n",
    "    os.remove('dataset.json')\n",
    "except:\n",
    "    pass\n",
    "\n",
    "# apply pipeline to every company in dataset\n",
    "# comments to pipeline in processing.py\n",
    "for idx, row in tqdm(ds.iterrows()):    \n",
    "    company = Company(row['website'],row['name'],row['client_id'])\n",
    "    company.pipeline()\n",
    "# add extracted data to json\n",
    "    dct_row={'website':row['website'],'name': row['name'],'urls':company.urls,'emails':company.emails,\n",
    "                    'phones':company.phones,'legals':company.legals,'contacts':company.contacts,\n",
    "                    'about_us':company.about_us,'desc':company.desc,'client_id':company.client_id}\n",
    "    append_to_list_of_jsons(dct_row,'dataset.json')\n",
    "    del company"
   ]
  },
  {
   "cell_type": "code",
   "execution_count": 8,
   "metadata": {},
   "outputs": [],
   "source": [
    "# open our json to pandas dataset for evaluation of missing data and resaving in other format\n",
    "dataset = open_json_pd('dataset.json')"
   ]
  },
  {
   "cell_type": "code",
   "execution_count": 9,
   "metadata": {},
   "outputs": [],
   "source": [
    "# saving as xlsx\n",
    "dataset[['client_id','website','name','emails','phones','desc','contacts','legals','about_us']].to_excel('task1_info_dataset.xlsx', engine='openpyxl',index=False)"
   ]
  },
  {
   "cell_type": "code",
   "execution_count": 10,
   "metadata": {},
   "outputs": [
    {
     "data": {
      "text/plain": [
       "Index(['website', 'name', 'urls', 'emails', 'phones', 'legals', 'contacts',\n",
       "       'about_us', 'desc', 'client_id'],\n",
       "      dtype='object')"
      ]
     },
     "execution_count": 10,
     "metadata": {},
     "output_type": "execute_result"
    }
   ],
   "source": [
    "dataset.columns"
   ]
  },
  {
   "cell_type": "code",
   "execution_count": 11,
   "metadata": {},
   "outputs": [
    {
     "data": {
      "text/plain": [
       "[('website', 0),\n",
       " ('name', 0),\n",
       " ('urls', 3),\n",
       " ('emails', 23),\n",
       " ('phones', 39),\n",
       " ('legals', 43),\n",
       " ('contacts', 36),\n",
       " ('about_us', 45),\n",
       " ('desc', 17)]"
      ]
     },
     "execution_count": 11,
     "metadata": {},
     "output_type": "execute_result"
    }
   ],
   "source": [
    "# unfilled cells\n",
    "[(col,dataset[dataset[col].apply(len)==0].shape[0]) for col in dataset.columns[:-1]]"
   ]
  }
 ],
 "metadata": {
  "kernelspec": {
   "display_name": "Python 3",
   "language": "python",
   "name": "python3"
  },
  "language_info": {
   "codemirror_mode": {
    "name": "ipython",
    "version": 3
   },
   "file_extension": ".py",
   "mimetype": "text/x-python",
   "name": "python",
   "nbconvert_exporter": "python",
   "pygments_lexer": "ipython3",
   "version": "3.7.6"
  },
  "varInspector": {
   "cols": {
    "lenName": 16,
    "lenType": 16,
    "lenVar": 40
   },
   "kernels_config": {
    "python": {
     "delete_cmd_postfix": "",
     "delete_cmd_prefix": "del ",
     "library": "var_list.py",
     "varRefreshCmd": "print(var_dic_list())"
    },
    "r": {
     "delete_cmd_postfix": ") ",
     "delete_cmd_prefix": "rm(",
     "library": "var_list.r",
     "varRefreshCmd": "cat(var_dic_list()) "
    }
   },
   "types_to_exclude": [
    "module",
    "function",
    "builtin_function_or_method",
    "instance",
    "_Feature"
   ],
   "window_display": false
  }
 },
 "nbformat": 4,
 "nbformat_minor": 4
}
