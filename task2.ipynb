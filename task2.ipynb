{
 "cells": [
  {
   "cell_type": "code",
   "execution_count": 1,
   "metadata": {},
   "outputs": [],
   "source": [
    "import pandas as pd\n",
    "import numpy as np\n",
    "import datetime\n",
    "\n",
    "import requests\n",
    "from tqdm import tqdm\n",
    "from urllib.parse import urlparse\n",
    "\n",
    "import collections"
   ]
  },
  {
   "cell_type": "code",
   "execution_count": 2,
   "metadata": {},
   "outputs": [],
   "source": [
    "from task1_utils import *\n",
    "from task2_utils import *"
   ]
  },
  {
   "cell_type": "code",
   "execution_count": 3,
   "metadata": {},
   "outputs": [],
   "source": [
    "import urllib3\n",
    "urllib3.disable_warnings(urllib3.exceptions.InsecureRequestWarning)"
   ]
  },
  {
   "cell_type": "code",
   "execution_count": null,
   "metadata": {},
   "outputs": [],
   "source": []
  },
  {
   "cell_type": "code",
   "execution_count": 4,
   "metadata": {},
   "outputs": [],
   "source": [
    "dataset_name = 'InputData.xlsx'\n",
    "\n",
    "ds = pd.read_excel(dataset_name, 'Fround',engine='openpyxl')"
   ]
  },
  {
   "cell_type": "code",
   "execution_count": 6,
   "metadata": {},
   "outputs": [],
   "source": [
    "# download news page\n",
    "ds['soup'] = ds['news_url'].apply(lambda x: soup_by_url(x)[0])"
   ]
  },
  {
   "cell_type": "code",
   "execution_count": 7,
   "metadata": {},
   "outputs": [],
   "source": [
    "# extract text, convert text to set of sentences\n",
    "ds['sents'] = ds['soup'].apply(lambda x: list_to_sents(all_strings(x)))"
   ]
  },
  {
   "cell_type": "code",
   "execution_count": 8,
   "metadata": {},
   "outputs": [],
   "source": [
    "# extract sentences with digits\n",
    "ds['sentswithdigits'] = ds['sents'].apply(lambda x: [sent for sent in x if isthere_dig(sent)])"
   ]
  },
  {
   "cell_type": "code",
   "execution_count": 9,
   "metadata": {},
   "outputs": [],
   "source": [
    "# extract from sentswithdigits ones with currency symbols too\n",
    "ds['sentswithsymbs'] = ds['sentswithdigits'].apply(lambda x: \n",
    "                                                   [sent for sent in x if \n",
    "                                                   isthere_cur_symb(' '.join(sent))|isthere_cur_keys(' '.join(sent))])"
   ]
  },
  {
   "cell_type": "code",
   "execution_count": 10,
   "metadata": {},
   "outputs": [],
   "source": [
    "# and adding filter to including of company name\n",
    "ds['sentswithname'] = ds.apply(lambda row: isthere_name(row['sentswithsymbs'],row['name']),axis=1)"
   ]
  },
  {
   "cell_type": "code",
   "execution_count": null,
   "metadata": {},
   "outputs": [],
   "source": [
    "# soft filter to including our marks\n",
    "ds['sentsaboutmoney'] = ds.apply(lambda row: \n",
    "                            ' '.join(row['sentswithname'] or row['sentswithsymbs'] or row['sentswithdigits']),axis=1)"
   ]
  },
  {
   "cell_type": "code",
   "execution_count": 17,
   "metadata": {},
   "outputs": [],
   "source": [
    "# looking for fround amount\n",
    "# turn currency abbreviation to symbols\n",
    "from currency_symbols import _constants\n",
    "for k,v in _constants.CURRENCY_SYMBOLS_MAP.items():\n",
    "    ds['sentsaboutmoney']  = ds['sentsaboutmoney'].str.replace(f' {k} ',f' {v} ',case=True)\n",
    "\n",
    "# extract some text's parts look like an fround amount\n",
    "ds['fround_amount'] = ds['sentsaboutmoney'].apply(lambda x: [x for x in extract_fround_amount(x)])\n",
    "\n",
    "# soft currency symbols filter \n",
    "ds['fround_amount'] = ds['fround_amount'].apply(lambda lst: \n",
    "                            [x for x in lst if isthere_cur_symb(x)] if isthere_cur_symb(' '.join(lst)) else lst)\n",
    "\n",
    "# most common example\n",
    "ds['fround_amount'] = ds['fround_amount'].apply(lambda x:  collections.Counter(x).most_common(1))\n",
    "\n",
    "# from tuple to str\n",
    "ds['fround_amount'] = ds['fround_amount'].apply(lambda x: first_element(first_element(x)))"
   ]
  },
  {
   "cell_type": "code",
   "execution_count": 11,
   "metadata": {},
   "outputs": [],
   "source": [
    "# loofing for a news date\n",
    "# extract all 'time' tags\n",
    "ds['times'] = ds['soup'].apply(lambda x: times(x))\n",
    "\n",
    "# if news had time tag, take its, if not - take first 5 sentences with digits\n",
    "ds['dates'] = ds.apply(lambda row: row['times'] or row['sentswithdigits'][:5],axis=1)\n",
    "\n",
    "# trying to propose some dates from those texts\n",
    "ds['props_dates'] = ds['dates'].apply(lambda lst: find_dates_from_list(lst))\n",
    "\n",
    "# round dates to day\n",
    "ds['props_dates'] = ds['props_dates'].apply(lambda x: \n",
    "                    [d.replace(hour = 0,minute=0, second=0, microsecond=0,tzinfo=None) for d in x] if x else None)\n",
    "\n",
    "# filter from 2000 year to today, take first occurence\n",
    "ds['date'] = ds['props_dates'].apply(lambda x: \n",
    "                    unique([d for d in x if d<datetime.datetime.now() and d.year>2000])[0] if x else None)\n"
   ]
  },
  {
   "cell_type": "code",
   "execution_count": 27,
   "metadata": {},
   "outputs": [],
   "source": [
    "ds[['client_id','name','website','news_url','date','fround_amount']].to_excel('task2_frounds_dataset.xlsx', engine='openpyxl',index=False)"
   ]
  }
 ],
 "metadata": {
  "kernelspec": {
   "display_name": "Python 3",
   "language": "python",
   "name": "python3"
  },
  "language_info": {
   "codemirror_mode": {
    "name": "ipython",
    "version": 3
   },
   "file_extension": ".py",
   "mimetype": "text/x-python",
   "name": "python",
   "nbconvert_exporter": "python",
   "pygments_lexer": "ipython3",
   "version": "3.7.6"
  },
  "varInspector": {
   "cols": {
    "lenName": 16,
    "lenType": 16,
    "lenVar": 40
   },
   "kernels_config": {
    "python": {
     "delete_cmd_postfix": "",
     "delete_cmd_prefix": "del ",
     "library": "var_list.py",
     "varRefreshCmd": "print(var_dic_list())"
    },
    "r": {
     "delete_cmd_postfix": ") ",
     "delete_cmd_prefix": "rm(",
     "library": "var_list.r",
     "varRefreshCmd": "cat(var_dic_list()) "
    }
   },
   "types_to_exclude": [
    "module",
    "function",
    "builtin_function_or_method",
    "instance",
    "_Feature"
   ],
   "window_display": false
  }
 },
 "nbformat": 4,
 "nbformat_minor": 4
}
